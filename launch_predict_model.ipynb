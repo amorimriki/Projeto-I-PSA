{
 "cells": [
  {
   "cell_type": "code",
   "execution_count": null,
   "id": "9d46a9bc-3dcf-4b72-bcd4-092b5149f8d4",
   "metadata": {
    "editable": true,
    "slideshow": {
     "slide_type": ""
    },
    "tags": []
   },
   "outputs": [],
   "source": [
    "# --------------------------------------------------------------\n",
    "# Dependencies\n",
    "# --------------------------------------------------------------\n",
    "\n",
    "import pandas as pd\n",
    "import pylab as pl\n",
    "import numpy as np\n",
    "import scipy.optimize as opt\n",
    "import statsmodels.api as sm\n",
    "\n",
    "import matplotlib.pyplot as plt\n",
    "import matplotlib.mlab as mlab\n",
    "import seaborn as sns\n",
    "\n",
    "import itertools\n",
    "\n",
    "from sklearn.ensemble import RandomForestClassifier\n",
    "from sklearn.svm import SVC\n",
    "from sklearn.neural_network import MLPClassifier\n",
    "from sklearn.model_selection import train_test_split\n",
    "from sklearn.linear_model import LogisticRegression\n",
    "from sklearn.ensemble import StackingClassifier\n",
    "from sklearn import preprocessing\n",
    "from sklearn.model_selection import train_test_split\n",
    "from sklearn.metrics import accuracy_score, confusion_matrix\n",
    "from sklearn.preprocessing import LabelEncoder\n",
    "from sklearn.preprocessing import StandardScaler\n",
    "\n",
    "\n"
   ]
  },
  {
   "cell_type": "code",
   "execution_count": null,
   "id": "e37c70b7-3e36-4701-8c4d-306603e75683",
   "metadata": {
    "editable": true,
    "slideshow": {
     "slide_type": ""
    },
    "tags": []
   },
   "outputs": [],
   "source": []
  },
  {
   "cell_type": "code",
   "execution_count": null,
   "id": "bfd9f464-48ba-42f1-9117-e062e53e8483",
   "metadata": {
    "editable": true,
    "slideshow": {
     "slide_type": ""
    },
    "tags": []
   },
   "outputs": [],
   "source": [
    "# --------------------------------------------------------------\n",
    "# Import Dataset \n",
    "# --------------------------------------------------------------\n",
    "\n",
    "\n",
    "studentInfo = pd.read_csv(\"./uci-open-university-learning-analytics-dataset/studentInfo.csv\")\n",
    "\n",
    "assessments = pd.read_csv(\"./uci-open-university-learning-analytics-dataset/assessments.csv\")\n",
    "\n",
    "studentAssessment = pd.read_csv(\"./uci-open-university-learning-analytics-dataset/studentAssessment.csv\")\n",
    "\n",
    "studentVle = pd.read_csv(\"./uci-open-university-learning-analytics-dataset/studentVle.csv\")\n",
    "\n"
   ]
  },
  {
   "cell_type": "code",
   "execution_count": null,
   "id": "a1d2aaa8-665b-4246-af45-440bca64f986",
   "metadata": {},
   "outputs": [],
   "source": []
  },
  {
   "cell_type": "code",
   "execution_count": null,
   "id": "ff957b95-8bd1-422c-8da5-8178c2decfe4",
   "metadata": {},
   "outputs": [],
   "source": [
    "# --------------------------------------------------------------\n",
    "# Junção das Tabelas\n",
    "# --------------------------------------------------------------\n",
    "\n",
    "# Juntar informações das avaliações\n",
    "dfs = studentInfo.merge(studentAssessment, on=\"id_student\", how=\"left\")\n",
    "print(\"\\nstudentAssessment\\n\")\n",
    "print(studentAssessment.dtypes)\n",
    "\n",
    "# Juntar com detalhes das avaliações\n",
    "assessments.drop(columns=[\"code_module\", \"code_presentation\"], inplace=True) #Remove colunas que vão ser duplicadas\n",
    "dfs = dfs.merge(assessments, on=\"id_assessment\", how=\"left\")\n",
    "print(\"\\nassessments\\n\")\n",
    "print(assessments.dtypes)\n",
    "\n",
    "# Juntar interações com a plataforma\n",
    "dfs = dfs.merge(studentVle.groupby(\"id_student\")[\"sum_click\"].sum().reset_index(), on=\"id_student\", how=\"left\")\n",
    "\n",
    "print(\"\\nstudentVle\\n\")\n",
    "print(studentVle.dtypes)\n",
    "\n",
    "\n",
    "dfs.drop(columns=[\"id_student\", \"id_assessment\",\"code_presentation\"], inplace=True) #Remover colunas irrelevantes \n",
    "\n",
    "\n",
    "# Questao para Final Result: tem 4: Fail, Withdrawn, Pass and Disitinction. Devo fazer drop das desistencias e juntar os de distinção ao aprovado ?"
   ]
  },
  {
   "cell_type": "code",
   "execution_count": null,
   "id": "613b16f1-4fc9-4576-a50a-e2688918dc85",
   "metadata": {},
   "outputs": [],
   "source": [
    "print(\"\\ndfs\\n\")\n",
    "print(dfs.dtypes)\n",
    "print(dfs.head())\n",
    "\n",
    "print(\"\\nnunique\\n\")\n",
    "print(dfs.nunique())\n",
    "print(dfs.describe().T)\n",
    "\n",
    "\n",
    "print(\"\\nisnull\\n\")\n",
    "print(dfs.isnull().sum())\n",
    "print((dfs.isnull().sum() / len(dfs) * 100).apply(lambda x: f\"{x:.2f}%\"))\n",
    "\n",
    "print(\"\\nshape\\n\")\n",
    "print(dfs.shape)"
   ]
  },
  {
   "cell_type": "code",
   "execution_count": null,
   "id": "3efb4ebf-45a4-4edb-b786-e758d3390d3b",
   "metadata": {},
   "outputs": [],
   "source": [
    "# --------------------------------------------------------------\n",
    "# Identificação das Features\n",
    "# --------------------------------------------------------------\n",
    "# Identificar colunas categóricas\n",
    "categorical_cols = [\"code_module\", \"gender\", \"region\", \"highest_education\", \"imd_band\", \"age_band\", \"disability\", \"assessment_type\", \"final_result\",\"is_banked\"]\n",
    "# Selecionar features numericas\n",
    "numeric_cols =[\"date_submitted\",\"num_of_prev_attempts\", \"sum_click\",\"date\",\"studied_credits\", \"weight\",\"score\"]"
   ]
  },
  {
   "cell_type": "code",
   "execution_count": null,
   "id": "6b115101-21d1-43d8-9260-c6330ea4a29e",
   "metadata": {},
   "outputs": [],
   "source": [
    "# --------------------------------------------------------------\n",
    "# Normalização do data set\n",
    "# --------------------------------------------------------------\n",
    "\n",
    "# Substituir '?' por NaN\n",
    "dfs.replace('?', np.nan, inplace=True)\n",
    "\n",
    "# --------------------------------------------------------------\n",
    "# numeric_cols\n",
    "# --------------------------------------------------------------\n",
    "\n",
    "# Converter colunas numéricas corretamente\n",
    "dfs[numeric_cols] = dfs[numeric_cols].apply(pd.to_numeric, errors='coerce')\n",
    "\n",
    "# Preencher valores NaN com a média da respetiva coluna\n",
    "dfs[numeric_cols] = dfs[numeric_cols].fillna(dfs[numeric_cols].mean())\n",
    "\n",
    "# --------------------------------------------------------------\n",
    "# categorical_cols\n",
    "# --------------------------------------------------------------\n",
    "\n",
    "# Remover linhas com NaN\n",
    "dfs.dropna(subset=categorical_cols, inplace=True)\n",
    "\n",
    "# Remover linhas com 'Withdrawn'\n",
    "dfs = dfs.loc[dfs['final_result'] != 'Withdrawn']\n",
    "\n",
    "# Substituir 'Distinction' por 'Pass'\n",
    "dfs['final_result'] = dfs['final_result'].replace('Distinction', 'Pass')\n",
    "\n"
   ]
  },
  {
   "cell_type": "code",
   "execution_count": null,
   "id": "0c02f347-d90a-4a79-adfa-f6f64db387f7",
   "metadata": {},
   "outputs": [],
   "source": [
    "# --------------------------------------------------------------\n",
    "# Normalização das Features numéricas para SVM\n",
    "# --------------------------------------------------------------\n",
    "\n",
    "scaler = StandardScaler()\n",
    "dfs[numeric_cols] = scaler.fit_transform(dfs[numeric_cols])\n",
    "\n"
   ]
  },
  {
   "cell_type": "code",
   "execution_count": null,
   "id": "40d04225-d7c4-4747-84dd-c58f4931e54b",
   "metadata": {},
   "outputs": [],
   "source": [
    "# --------------------------------------------------------------\n",
    "# Normalização das Features categóricas para SVM\n",
    "# --------------------------------------------------------------\n",
    "\n",
    "# Aplicar Label Encoding\n",
    "for col in categorical_cols:\n",
    "    dfs[col] = LabelEncoder().fit_transform(dfs[col])\n",
    "\n",
    "print(dfs.dtypes)\n",
    "print(dfs.head())\n"
   ]
  },
  {
   "cell_type": "code",
   "execution_count": null,
   "id": "f127e8ef-f6d0-4661-bb9a-dcafb855e58f",
   "metadata": {},
   "outputs": [],
   "source": [
    "# --------------------------------------------------------------\n",
    "# Split feature subsets\n",
    "# --------------------------------------------------------------\n",
    "\n",
    "X = dfs.drop(columns=\"final_result\")\n",
    "y = dfs[\"final_result\"]\n",
    "\n"
   ]
  },
  {
   "cell_type": "code",
   "execution_count": null,
   "id": "5c4fd3fc-2744-4410-96d2-ef326f1ac4c4",
   "metadata": {},
   "outputs": [],
   "source": [
    "# --------------------------------------------------------------\n",
    "# Create a training and test set\n",
    "# --------------------------------------------------------------\n",
    "\n",
    "X_train, X_test, y_train, y_test = train_test_split(X, y, test_size=0.2, random_state=42)\n",
    "\n",
    "print(X_train.dtypes)\n",
    "print ('Train set:', X_train.shape,  y_train.shape)\n",
    "print ('Test set:', X_test.shape,  y_test.shape)\n"
   ]
  },
  {
   "cell_type": "code",
   "execution_count": null,
   "id": "5cbcf5c9-7ed5-42d3-8b04-7eb59121842a",
   "metadata": {},
   "outputs": [],
   "source": [
    "# --------------------------------------------------------------\n",
    "# Treinamento do modelo SVM\n",
    "# --------------------------------------------------------------\n",
    "\n",
    "svm = SVC(probability=True)  # Probabilidade para usar as saídas de probabilidade no treino da rede neural\n",
    "svm.fit(X_train, y_train)"
   ]
  },
  {
   "cell_type": "code",
   "execution_count": null,
   "id": "76715b3a-3bf0-49b1-99f3-0866d027e4c6",
   "metadata": {},
   "outputs": [],
   "source": [
    "# --------------------------------------------------------------\n",
    "# Treinamento do modelo Random Forest\n",
    "# --------------------------------------------------------------\n",
    "\n",
    "rf = RandomForestClassifier()\n",
    "rf.fit(X_train, y_train)\n"
   ]
  },
  {
   "cell_type": "code",
   "execution_count": null,
   "id": "cbcb3e2f-6f87-4f4c-b34a-4e224c2c5269",
   "metadata": {},
   "outputs": [],
   "source": [
    "# --------------------------------------------------------------\n",
    "# Previsões dos modelos base\n",
    "# --------------------------------------------------------------\n",
    "\n",
    "svm_preds_train = svm.predict_proba(X_train)[:, 1]  # Usando a probabilidade da classe 1\n",
    "rf_preds_train = rf.predict_proba(X_train)[:, 1]\n"
   ]
  },
  {
   "cell_type": "code",
   "execution_count": null,
   "id": "dca30c45-43a9-41f4-900e-7f10292ea860",
   "metadata": {},
   "outputs": [],
   "source": [
    "# Concatenar as predições dos modelos base como novas features\n",
    "X_train_stack = pd.DataFrame({\n",
    "    'svm_pred': svm_preds_train,\n",
    "    'rf_pred': rf_preds_train\n",
    "})\n",
    "\n",
    "X_test_stack = pd.DataFrame({\n",
    "    'svm_pred': svm_preds_test,\n",
    "    'rf_pred': rf_preds_test\n",
    "})\n"
   ]
  },
  {
   "cell_type": "code",
   "execution_count": null,
   "id": "169f5786-4e21-4c9b-8f5c-c378ff7a98aa",
   "metadata": {},
   "outputs": [],
   "source": [
    "import keras\n",
    "from keras.models import Sequential\n",
    "from keras.layers import Dense\n",
    "\n",
    "# Construir a rede neural\n",
    "model = Sequential()\n",
    "model.add(Dense(32, input_dim=X_train_stack.shape[1], activation='relu'))  # Camada de entrada\n",
    "model.add(Dense(16, activation='relu'))  # Camada oculta\n",
    "model.add(Dense(1, activation='sigmoid'))  # Camada de saída para classificação binária\n",
    "\n",
    "# Compilar o modelo\n",
    "model.compile(loss='binary_crossentropy', optimizer='adam', metrics=['accuracy'])\n",
    "\n",
    "# Treinar a rede neural\n",
    "model.fit(X_train_stack, y_train, epochs=10, batch_size=32, validation_data=(X_test_stack, y_test))\n"
   ]
  },
  {
   "cell_type": "code",
   "execution_count": null,
   "id": "851e537f-fd89-452e-8509-3d46c91bc760",
   "metadata": {
    "editable": true,
    "slideshow": {
     "slide_type": ""
    },
    "tags": []
   },
   "outputs": [],
   "source": [
    "# Avaliar o modelo da rede neural\n",
    "loss, accuracy = model.evaluate(X_test_stack, y_test)\n",
    "print(f'Acurácia da rede neural: {accuracy:.4f}')\n",
    "\n",
    "# Predições com a rede neural\n",
    "nn_preds = model.predict(X_test_stack)\n",
    "nn_preds_class = (nn_preds > 0.5).astype(int)  # Se for maior que 0.5, classe 1, senão classe 0\n"
   ]
  },
  {
   "cell_type": "code",
   "execution_count": null,
   "id": "af836f9a-1b06-4ed2-a25e-674baf6add37",
   "metadata": {},
   "outputs": [],
   "source": [
    "# --------------------------------------------------------------\n",
    "# Perform forward feature selection using simple decision tree\n",
    "# --------------------------------------------------------------"
   ]
  },
  {
   "cell_type": "code",
   "execution_count": null,
   "id": "2017ab83-5dca-4acd-ac55-1a954638cc5d",
   "metadata": {},
   "outputs": [],
   "source": [
    "# --------------------------------------------------------------\n",
    "# Grid search for best hyperparameters and model selection\n",
    "# --------------------------------------------------------------"
   ]
  },
  {
   "cell_type": "code",
   "execution_count": null,
   "id": "04ca5291-b51d-4b7a-9b47-bdfc18517b7f",
   "metadata": {},
   "outputs": [],
   "source": [
    "# --------------------------------------------------------------\n",
    "# Create a grouped bar plot to compare the results\n",
    "# --------------------------------------------------------------"
   ]
  },
  {
   "cell_type": "code",
   "execution_count": null,
   "id": "24ae6649-cb91-41e2-bfd3-9e0321330980",
   "metadata": {},
   "outputs": [],
   "source": [
    "# --------------------------------------------------------------\n",
    "# Select best model and evaluate results\n",
    "# --------------------------------------------------------------"
   ]
  },
  {
   "cell_type": "code",
   "execution_count": null,
   "id": "fea44462-bcd2-47b9-93ad-320a529aeee4",
   "metadata": {},
   "outputs": [],
   "source": [
    "# --------------------------------------------------------------\n",
    "# Select train and test data based on participant\n",
    "# --------------------------------------------------------------"
   ]
  },
  {
   "cell_type": "code",
   "execution_count": null,
   "id": "4bf49085-ac0a-4265-a6d0-a346444534a5",
   "metadata": {},
   "outputs": [],
   "source": [
    "\n",
    "# --------------------------------------------------------------\n",
    "# Use best model again and evaluate results\n",
    "# --------------------------------------------------------------\n",
    "\n"
   ]
  },
  {
   "cell_type": "code",
   "execution_count": null,
   "id": "8e56bda0-6808-4454-854c-875d324ba15b",
   "metadata": {},
   "outputs": [],
   "source": [
    "\n",
    "# --------------------------------------------------------------\n",
    "# Try a simpler model with the selected features\n",
    "# --------------------------------------------------------------"
   ]
  },
  {
   "cell_type": "code",
   "execution_count": 2,
   "id": "942d2b6f-905f-48f1-950f-a1fc08dbbef2",
   "metadata": {},
   "outputs": [
    {
     "ename": "SyntaxError",
     "evalue": "invalid syntax (1408881651.py, line 1)",
     "output_type": "error",
     "traceback": [
      "\u001b[0;36m  Cell \u001b[0;32mIn[2], line 1\u001b[0;36m\u001b[0m\n\u001b[0;31m    jupyter nbconvert --to script launch_predict_model.ipynb\u001b[0m\n\u001b[0m            ^\u001b[0m\n\u001b[0;31mSyntaxError\u001b[0m\u001b[0;31m:\u001b[0m invalid syntax\n"
     ]
    }
   ],
   "source": [
    "\n",
    "\n",
    "\n"
   ]
  },
  {
   "cell_type": "code",
   "execution_count": null,
   "id": "f4cf1c9e-17b4-4201-8969-50ae6d55e61c",
   "metadata": {},
   "outputs": [],
   "source": []
  }
 ],
 "metadata": {
  "kernelspec": {
   "display_name": "Python [conda env:base] *",
   "language": "python",
   "name": "conda-base-py"
  },
  "language_info": {
   "codemirror_mode": {
    "name": "ipython",
    "version": 3
   },
   "file_extension": ".py",
   "mimetype": "text/x-python",
   "name": "python",
   "nbconvert_exporter": "python",
   "pygments_lexer": "ipython3",
   "version": "3.12.7"
  },
  "panel-cell-order": [
   "5398fa7a-9fde-495e-9729-ba022bce022b"
  ]
 },
 "nbformat": 4,
 "nbformat_minor": 5
}
