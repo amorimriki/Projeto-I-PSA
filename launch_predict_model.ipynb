{
  "cells": [
    {
      "cell_type": "markdown",
      "metadata": {
        "id": "view-in-github",
        "colab_type": "text"
      },
      "source": [
        "<a href=\"https://colab.research.google.com/github/amorimriki/Projeto-I-PSA/blob/main/launch_predict_model.ipynb\" target=\"_parent\"><img src=\"https://colab.research.google.com/assets/colab-badge.svg\" alt=\"Open In Colab\"/></a>"
      ]
    },
    {
      "cell_type": "code",
      "execution_count": 8,
      "id": "9d46a9bc-3dcf-4b72-bcd4-092b5149f8d4",
      "metadata": {
        "editable": true,
        "tags": [],
        "id": "9d46a9bc-3dcf-4b72-bcd4-092b5149f8d4"
      },
      "outputs": [],
      "source": [
        "# --------------------------------------------------------------\n",
        "# Dependencies\n",
        "# --------------------------------------------------------------\n",
        "\n",
        "import pandas as pd\n",
        "import pylab as pl\n",
        "import numpy as np\n",
        "import scipy.optimize as opt\n",
        "import statsmodels.api as sm\n",
        "\n",
        "from google.colab import files\n",
        "\n",
        "\n",
        "import matplotlib.pyplot as plt\n",
        "import matplotlib.mlab as mlab\n",
        "import seaborn as sns\n",
        "\n",
        "import itertools\n",
        "\n",
        "from sklearn.ensemble import RandomForestClassifier\n",
        "from sklearn.svm import SVC\n",
        "from sklearn.neural_network import MLPClassifier\n",
        "from sklearn.model_selection import train_test_split\n",
        "from sklearn.linear_model import LogisticRegression\n",
        "from sklearn.ensemble import StackingClassifier\n",
        "from sklearn import preprocessing\n",
        "from sklearn.model_selection import train_test_split\n",
        "from sklearn.metrics import accuracy_score, confusion_matrix\n",
        "from sklearn.preprocessing import LabelEncoder\n",
        "from sklearn.preprocessing import StandardScaler\n",
        "\n",
        "\n"
      ]
    },
    {
      "cell_type": "code",
      "execution_count": 1,
      "id": "bfd9f464-48ba-42f1-9117-e062e53e8483",
      "metadata": {
        "editable": true,
        "tags": [],
        "id": "bfd9f464-48ba-42f1-9117-e062e53e8483",
        "outputId": "83e73593-c32c-4086-b97f-496e2f7f8596",
        "colab": {
          "base_uri": "https://localhost:8080/",
          "height": 216
        }
      },
      "outputs": [
        {
          "output_type": "error",
          "ename": "NameError",
          "evalue": "name 'pd' is not defined",
          "traceback": [
            "\u001b[0;31m---------------------------------------------------------------------------\u001b[0m",
            "\u001b[0;31mNameError\u001b[0m                                 Traceback (most recent call last)",
            "\u001b[0;32m<ipython-input-1-e75531b489e9>\u001b[0m in \u001b[0;36m<cell line: 0>\u001b[0;34m()\u001b[0m\n\u001b[1;32m      4\u001b[0m \u001b[0;34m\u001b[0m\u001b[0m\n\u001b[1;32m      5\u001b[0m \u001b[0;34m\u001b[0m\u001b[0m\n\u001b[0;32m----> 6\u001b[0;31m \u001b[0mstudentInfo\u001b[0m \u001b[0;34m=\u001b[0m \u001b[0mpd\u001b[0m\u001b[0;34m.\u001b[0m\u001b[0mread_csv\u001b[0m\u001b[0;34m(\u001b[0m\u001b[0;34m\"/content/studentInfo.csv\"\u001b[0m\u001b[0;34m)\u001b[0m\u001b[0;34m\u001b[0m\u001b[0;34m\u001b[0m\u001b[0m\n\u001b[0m\u001b[1;32m      7\u001b[0m \u001b[0massessments\u001b[0m \u001b[0;34m=\u001b[0m \u001b[0mpd\u001b[0m\u001b[0;34m.\u001b[0m\u001b[0mread_csv\u001b[0m\u001b[0;34m(\u001b[0m\u001b[0;34m\"/content/assessments.csv\"\u001b[0m\u001b[0;34m)\u001b[0m\u001b[0;34m\u001b[0m\u001b[0;34m\u001b[0m\u001b[0m\n\u001b[1;32m      8\u001b[0m \u001b[0mstudentAssessment\u001b[0m \u001b[0;34m=\u001b[0m \u001b[0mpd\u001b[0m\u001b[0;34m.\u001b[0m\u001b[0mread_csv\u001b[0m\u001b[0;34m(\u001b[0m\u001b[0;34m\"/content/studentAssessment.csv\"\u001b[0m\u001b[0;34m)\u001b[0m\u001b[0;34m\u001b[0m\u001b[0;34m\u001b[0m\u001b[0m\n",
            "\u001b[0;31mNameError\u001b[0m: name 'pd' is not defined"
          ]
        }
      ],
      "source": [
        "# --------------------------------------------------------------\n",
        "# Import Dataset\n",
        "# --------------------------------------------------------------\n",
        "\n",
        "\n",
        "studentInfo = pd.read_csv(\"/content/studentInfo.csv\")\n",
        "assessments = pd.read_csv(\"/content/assessments.csv\")\n",
        "studentAssessment = pd.read_csv(\"/content/studentAssessment.csv\")\n",
        "studentVle = pd.read_csv(\"/content/studentVle.csv\")\n",
        "\n",
        "\n",
        "print(studentVle.columns)\n"
      ]
    },
    {
      "cell_type": "code",
      "execution_count": 7,
      "id": "ff957b95-8bd1-422c-8da5-8178c2decfe4",
      "metadata": {
        "id": "ff957b95-8bd1-422c-8da5-8178c2decfe4",
        "outputId": "ba2b926e-8d60-46a7-9f9f-b14a86e6a0a4",
        "colab": {
          "base_uri": "https://localhost:8080/",
          "height": 704
        }
      },
      "outputs": [
        {
          "output_type": "stream",
          "name": "stdout",
          "text": [
            "\n",
            "studentAssessment\n",
            "\n",
            "id_assessment      int64\n",
            "id_student         int64\n",
            "date_submitted     int64\n",
            "is_banked          int64\n",
            "score             object\n",
            "dtype: object\n",
            "\n",
            "assessments\n",
            "\n",
            "id_assessment        int64\n",
            "assessment_type     object\n",
            "date                object\n",
            "weight             float64\n",
            "dtype: object\n"
          ]
        },
        {
          "output_type": "error",
          "ename": "KeyError",
          "evalue": "'id_student'",
          "traceback": [
            "\u001b[0;31m---------------------------------------------------------------------------\u001b[0m",
            "\u001b[0;31mKeyError\u001b[0m                                  Traceback (most recent call last)",
            "\u001b[0;32m<ipython-input-7-0335993ddd84>\u001b[0m in \u001b[0;36m<cell line: 0>\u001b[0;34m()\u001b[0m\n\u001b[1;32m     15\u001b[0m \u001b[0;34m\u001b[0m\u001b[0m\n\u001b[1;32m     16\u001b[0m \u001b[0;31m# Juntar interações com a plataforma\u001b[0m\u001b[0;34m\u001b[0m\u001b[0;34m\u001b[0m\u001b[0m\n\u001b[0;32m---> 17\u001b[0;31m \u001b[0mdfs\u001b[0m \u001b[0;34m=\u001b[0m \u001b[0mdfs\u001b[0m\u001b[0;34m.\u001b[0m\u001b[0mmerge\u001b[0m\u001b[0;34m(\u001b[0m\u001b[0mstudentVle\u001b[0m\u001b[0;34m.\u001b[0m\u001b[0mgroupby\u001b[0m\u001b[0;34m(\u001b[0m\u001b[0;34m\"id_student\"\u001b[0m\u001b[0;34m)\u001b[0m\u001b[0;34m[\u001b[0m\u001b[0;34m\"sum_click\"\u001b[0m\u001b[0;34m]\u001b[0m\u001b[0;34m.\u001b[0m\u001b[0msum\u001b[0m\u001b[0;34m(\u001b[0m\u001b[0;34m)\u001b[0m\u001b[0;34m.\u001b[0m\u001b[0mreset_index\u001b[0m\u001b[0;34m(\u001b[0m\u001b[0;34m)\u001b[0m\u001b[0;34m,\u001b[0m \u001b[0mon\u001b[0m\u001b[0;34m=\u001b[0m\u001b[0;34m\"id_student\"\u001b[0m\u001b[0;34m,\u001b[0m \u001b[0mhow\u001b[0m\u001b[0;34m=\u001b[0m\u001b[0;34m\"left\"\u001b[0m\u001b[0;34m)\u001b[0m\u001b[0;34m\u001b[0m\u001b[0;34m\u001b[0m\u001b[0m\n\u001b[0m\u001b[1;32m     18\u001b[0m \u001b[0;34m\u001b[0m\u001b[0m\n\u001b[1;32m     19\u001b[0m \u001b[0mprint\u001b[0m\u001b[0;34m(\u001b[0m\u001b[0;34m\"\\nstudentVle\\n\"\u001b[0m\u001b[0;34m)\u001b[0m\u001b[0;34m\u001b[0m\u001b[0;34m\u001b[0m\u001b[0m\n",
            "\u001b[0;32m/usr/local/lib/python3.11/dist-packages/pandas/core/frame.py\u001b[0m in \u001b[0;36mgroupby\u001b[0;34m(self, by, axis, level, as_index, sort, group_keys, observed, dropna)\u001b[0m\n\u001b[1;32m   9181\u001b[0m             \u001b[0;32mraise\u001b[0m \u001b[0mTypeError\u001b[0m\u001b[0;34m(\u001b[0m\u001b[0;34m\"You have to supply one of 'by' and 'level'\"\u001b[0m\u001b[0;34m)\u001b[0m\u001b[0;34m\u001b[0m\u001b[0;34m\u001b[0m\u001b[0m\n\u001b[1;32m   9182\u001b[0m \u001b[0;34m\u001b[0m\u001b[0m\n\u001b[0;32m-> 9183\u001b[0;31m         return DataFrameGroupBy(\n\u001b[0m\u001b[1;32m   9184\u001b[0m             \u001b[0mobj\u001b[0m\u001b[0;34m=\u001b[0m\u001b[0mself\u001b[0m\u001b[0;34m,\u001b[0m\u001b[0;34m\u001b[0m\u001b[0;34m\u001b[0m\u001b[0m\n\u001b[1;32m   9185\u001b[0m             \u001b[0mkeys\u001b[0m\u001b[0;34m=\u001b[0m\u001b[0mby\u001b[0m\u001b[0;34m,\u001b[0m\u001b[0;34m\u001b[0m\u001b[0;34m\u001b[0m\u001b[0m\n",
            "\u001b[0;32m/usr/local/lib/python3.11/dist-packages/pandas/core/groupby/groupby.py\u001b[0m in \u001b[0;36m__init__\u001b[0;34m(self, obj, keys, axis, level, grouper, exclusions, selection, as_index, sort, group_keys, observed, dropna)\u001b[0m\n\u001b[1;32m   1327\u001b[0m \u001b[0;34m\u001b[0m\u001b[0m\n\u001b[1;32m   1328\u001b[0m         \u001b[0;32mif\u001b[0m \u001b[0mgrouper\u001b[0m \u001b[0;32mis\u001b[0m \u001b[0;32mNone\u001b[0m\u001b[0;34m:\u001b[0m\u001b[0;34m\u001b[0m\u001b[0;34m\u001b[0m\u001b[0m\n\u001b[0;32m-> 1329\u001b[0;31m             grouper, exclusions, obj = get_grouper(\n\u001b[0m\u001b[1;32m   1330\u001b[0m                 \u001b[0mobj\u001b[0m\u001b[0;34m,\u001b[0m\u001b[0;34m\u001b[0m\u001b[0;34m\u001b[0m\u001b[0m\n\u001b[1;32m   1331\u001b[0m                 \u001b[0mkeys\u001b[0m\u001b[0;34m,\u001b[0m\u001b[0;34m\u001b[0m\u001b[0;34m\u001b[0m\u001b[0m\n",
            "\u001b[0;32m/usr/local/lib/python3.11/dist-packages/pandas/core/groupby/grouper.py\u001b[0m in \u001b[0;36mget_grouper\u001b[0;34m(obj, key, axis, level, sort, observed, validate, dropna)\u001b[0m\n\u001b[1;32m   1041\u001b[0m                 \u001b[0min_axis\u001b[0m\u001b[0;34m,\u001b[0m \u001b[0mlevel\u001b[0m\u001b[0;34m,\u001b[0m \u001b[0mgpr\u001b[0m \u001b[0;34m=\u001b[0m \u001b[0;32mFalse\u001b[0m\u001b[0;34m,\u001b[0m \u001b[0mgpr\u001b[0m\u001b[0;34m,\u001b[0m \u001b[0;32mNone\u001b[0m\u001b[0;34m\u001b[0m\u001b[0;34m\u001b[0m\u001b[0m\n\u001b[1;32m   1042\u001b[0m             \u001b[0;32melse\u001b[0m\u001b[0;34m:\u001b[0m\u001b[0;34m\u001b[0m\u001b[0;34m\u001b[0m\u001b[0m\n\u001b[0;32m-> 1043\u001b[0;31m                 \u001b[0;32mraise\u001b[0m \u001b[0mKeyError\u001b[0m\u001b[0;34m(\u001b[0m\u001b[0mgpr\u001b[0m\u001b[0;34m)\u001b[0m\u001b[0;34m\u001b[0m\u001b[0;34m\u001b[0m\u001b[0m\n\u001b[0m\u001b[1;32m   1044\u001b[0m         \u001b[0;32melif\u001b[0m \u001b[0misinstance\u001b[0m\u001b[0;34m(\u001b[0m\u001b[0mgpr\u001b[0m\u001b[0;34m,\u001b[0m \u001b[0mGrouper\u001b[0m\u001b[0;34m)\u001b[0m \u001b[0;32mand\u001b[0m \u001b[0mgpr\u001b[0m\u001b[0;34m.\u001b[0m\u001b[0mkey\u001b[0m \u001b[0;32mis\u001b[0m \u001b[0;32mnot\u001b[0m \u001b[0;32mNone\u001b[0m\u001b[0;34m:\u001b[0m\u001b[0;34m\u001b[0m\u001b[0;34m\u001b[0m\u001b[0m\n\u001b[1;32m   1045\u001b[0m             \u001b[0;31m# Add key to exclusions\u001b[0m\u001b[0;34m\u001b[0m\u001b[0;34m\u001b[0m\u001b[0m\n",
            "\u001b[0;31mKeyError\u001b[0m: 'id_student'"
          ]
        }
      ],
      "source": [
        "# --------------------------------------------------------------\n",
        "# Junção das Tabelas\n",
        "# --------------------------------------------------------------\n",
        "\n",
        "# Juntar informações das avaliações\n",
        "dfs = studentInfo.merge(studentAssessment, on=\"id_student\", how=\"left\")\n",
        "print(\"\\nstudentAssessment\\n\")\n",
        "print(studentAssessment.dtypes)\n",
        "\n",
        "# Juntar com detalhes das avaliações\n",
        "assessments.drop(columns=[\"code_module\", \"code_presentation\"], inplace=True) #Remove colunas que vão ser duplicadas\n",
        "dfs = dfs.merge(assessments, on=\"id_assessment\", how=\"left\")\n",
        "print(\"\\nassessments\\n\")\n",
        "print(assessments.dtypes)\n",
        "\n",
        "# Juntar interações com a plataforma\n",
        "dfs = dfs.merge(studentVle.groupby(\"id_student\")[\"sum_click\"].sum().reset_index(), on=\"id_student\", how=\"left\")\n",
        "\n",
        "print(\"\\nstudentVle\\n\")\n",
        "print(studentVle.dtypes)\n",
        "\n",
        "\n",
        "dfs.drop(columns=[\"id_student\", \"id_assessment\",\"code_presentation\"], inplace=True) #Remover colunas irrelevantes\n",
        "\n",
        "\n",
        "# Questao para Final Result: tem 4: Fail, Withdrawn, Pass and Disitinction. Devo fazer drop das desistencias e juntar os de distinção ao aprovado ?"
      ]
    },
    {
      "cell_type": "code",
      "execution_count": null,
      "id": "613b16f1-4fc9-4576-a50a-e2688918dc85",
      "metadata": {
        "id": "613b16f1-4fc9-4576-a50a-e2688918dc85"
      },
      "outputs": [],
      "source": [
        "print(\"\\ndfs\\n\")\n",
        "print(dfs.dtypes)\n",
        "print(dfs.head())\n",
        "\n",
        "print(\"\\nnunique\\n\")\n",
        "print(dfs.nunique())\n",
        "print(dfs.describe().T)\n",
        "\n",
        "\n",
        "print(\"\\nisnull\\n\")\n",
        "print(dfs.isnull().sum())\n",
        "print((dfs.isnull().sum() / len(dfs) * 100).apply(lambda x: f\"{x:.2f}%\"))\n",
        "\n",
        "print(\"\\nshape\\n\")\n",
        "print(dfs.shape)"
      ]
    },
    {
      "cell_type": "code",
      "execution_count": null,
      "id": "3efb4ebf-45a4-4edb-b786-e758d3390d3b",
      "metadata": {
        "id": "3efb4ebf-45a4-4edb-b786-e758d3390d3b"
      },
      "outputs": [],
      "source": [
        "# --------------------------------------------------------------\n",
        "# Identificação das Features\n",
        "# --------------------------------------------------------------\n",
        "# Identificar colunas categóricas\n",
        "categorical_cols = [\"code_module\", \"gender\", \"region\", \"highest_education\", \"imd_band\", \"age_band\", \"disability\", \"assessment_type\", \"final_result\",\"is_banked\"]\n",
        "# Selecionar features numericas\n",
        "numeric_cols =[\"date_submitted\",\"num_of_prev_attempts\", \"sum_click\",\"date\",\"studied_credits\", \"weight\",\"score\"]"
      ]
    },
    {
      "cell_type": "code",
      "execution_count": null,
      "id": "6b115101-21d1-43d8-9260-c6330ea4a29e",
      "metadata": {
        "id": "6b115101-21d1-43d8-9260-c6330ea4a29e"
      },
      "outputs": [],
      "source": [
        "# --------------------------------------------------------------\n",
        "# Normalização do data set\n",
        "# --------------------------------------------------------------\n",
        "\n",
        "# Substituir '?' por NaN\n",
        "dfs.replace('?', np.nan, inplace=True)\n",
        "\n",
        "# --------------------------------------------------------------\n",
        "# numeric_cols\n",
        "# --------------------------------------------------------------\n",
        "\n",
        "# Converter colunas numéricas corretamente\n",
        "dfs[numeric_cols] = dfs[numeric_cols].apply(pd.to_numeric, errors='coerce')\n",
        "\n",
        "# Preencher valores NaN com a média da respetiva coluna\n",
        "dfs[numeric_cols] = dfs[numeric_cols].fillna(dfs[numeric_cols].mean())\n",
        "\n",
        "# --------------------------------------------------------------\n",
        "# categorical_cols\n",
        "# --------------------------------------------------------------\n",
        "\n",
        "# Remover linhas com NaN\n",
        "dfs.dropna(subset=categorical_cols, inplace=True)\n",
        "\n",
        "# Remover linhas com 'Withdrawn'\n",
        "dfs = dfs.loc[dfs['final_result'] != 'Withdrawn']\n",
        "\n",
        "# Substituir 'Distinction' por 'Pass'\n",
        "dfs['final_result'] = dfs['final_result'].replace('Distinction', 'Pass')\n",
        "\n"
      ]
    },
    {
      "cell_type": "code",
      "execution_count": null,
      "id": "0c02f347-d90a-4a79-adfa-f6f64db387f7",
      "metadata": {
        "id": "0c02f347-d90a-4a79-adfa-f6f64db387f7"
      },
      "outputs": [],
      "source": [
        "# --------------------------------------------------------------\n",
        "# Normalização das Features numéricas para SVM\n",
        "# --------------------------------------------------------------\n",
        "\n",
        "scaler = StandardScaler()\n",
        "dfs[numeric_cols] = scaler.fit_transform(dfs[numeric_cols])\n",
        "\n"
      ]
    },
    {
      "cell_type": "code",
      "execution_count": null,
      "id": "40d04225-d7c4-4747-84dd-c58f4931e54b",
      "metadata": {
        "id": "40d04225-d7c4-4747-84dd-c58f4931e54b"
      },
      "outputs": [],
      "source": [
        "# --------------------------------------------------------------\n",
        "# Normalização das Features categóricas para SVM\n",
        "# --------------------------------------------------------------\n",
        "\n",
        "# Aplicar Label Encoding\n",
        "for col in categorical_cols:\n",
        "    dfs[col] = LabelEncoder().fit_transform(dfs[col])\n",
        "\n",
        "print(dfs.dtypes)\n",
        "print(dfs.head())\n"
      ]
    },
    {
      "cell_type": "code",
      "execution_count": null,
      "id": "f127e8ef-f6d0-4661-bb9a-dcafb855e58f",
      "metadata": {
        "id": "f127e8ef-f6d0-4661-bb9a-dcafb855e58f"
      },
      "outputs": [],
      "source": [
        "# --------------------------------------------------------------\n",
        "# Split feature subsets\n",
        "# --------------------------------------------------------------\n",
        "\n",
        "X = dfs.drop(columns=\"final_result\")\n",
        "y = dfs[\"final_result\"]\n",
        "\n"
      ]
    },
    {
      "cell_type": "code",
      "execution_count": null,
      "id": "5c4fd3fc-2744-4410-96d2-ef326f1ac4c4",
      "metadata": {
        "id": "5c4fd3fc-2744-4410-96d2-ef326f1ac4c4"
      },
      "outputs": [],
      "source": [
        "# --------------------------------------------------------------\n",
        "# Create a training and test set\n",
        "# --------------------------------------------------------------\n",
        "\n",
        "X_train, X_test, y_train, y_test = train_test_split(X, y, test_size=0.2, random_state=42)\n",
        "\n",
        "print(X_train.dtypes)\n",
        "print ('Train set:', X_train.shape,  y_train.shape)\n",
        "print ('Test set:', X_test.shape,  y_test.shape)\n"
      ]
    },
    {
      "cell_type": "code",
      "execution_count": null,
      "id": "5cbcf5c9-7ed5-42d3-8b04-7eb59121842a",
      "metadata": {
        "id": "5cbcf5c9-7ed5-42d3-8b04-7eb59121842a"
      },
      "outputs": [],
      "source": [
        "# --------------------------------------------------------------\n",
        "# Treinamento do modelo SVM\n",
        "# --------------------------------------------------------------\n",
        "\n",
        "svm = SVC(probability=True)  # Probabilidade para usar as saídas de probabilidade no treino da rede neural\n",
        "svm.fit(X_train, y_train)"
      ]
    },
    {
      "cell_type": "code",
      "execution_count": null,
      "id": "76715b3a-3bf0-49b1-99f3-0866d027e4c6",
      "metadata": {
        "id": "76715b3a-3bf0-49b1-99f3-0866d027e4c6"
      },
      "outputs": [],
      "source": [
        "# --------------------------------------------------------------\n",
        "# Treinamento do modelo Random Forest\n",
        "# --------------------------------------------------------------\n",
        "\n",
        "rf = RandomForestClassifier()\n",
        "rf.fit(X_train, y_train)\n"
      ]
    },
    {
      "cell_type": "code",
      "execution_count": null,
      "id": "cbcb3e2f-6f87-4f4c-b34a-4e224c2c5269",
      "metadata": {
        "id": "cbcb3e2f-6f87-4f4c-b34a-4e224c2c5269"
      },
      "outputs": [],
      "source": [
        "# --------------------------------------------------------------\n",
        "# Previsões dos modelos base\n",
        "# --------------------------------------------------------------\n",
        "\n",
        "svm_preds_train = svm.predict_proba(X_train)[:, 1]  # Usando a probabilidade da classe 1\n",
        "rf_preds_train = rf.predict_proba(X_train)[:, 1]\n"
      ]
    },
    {
      "cell_type": "code",
      "source": [
        "svm_preds_test = svm.predict_proba(X_test)[:, 1]  # Usando a probabilidade da classe 1\n",
        "rf_preds_test = rf.predict_proba(X_test)[:, 1]\n"
      ],
      "metadata": {
        "id": "aLYaBTYHRKBx"
      },
      "id": "aLYaBTYHRKBx",
      "execution_count": null,
      "outputs": []
    },
    {
      "cell_type": "code",
      "execution_count": null,
      "id": "dca30c45-43a9-41f4-900e-7f10292ea860",
      "metadata": {
        "id": "dca30c45-43a9-41f4-900e-7f10292ea860"
      },
      "outputs": [],
      "source": [
        "# Concatenar as predições dos modelos base como novas features\n",
        "X_train_stack = pd.DataFrame({\n",
        "    'svm_pred': svm_preds_train,\n",
        "    'rf_pred': rf_preds_train\n",
        "})\n",
        "\n",
        "X_test_stack = pd.DataFrame({\n",
        "    'svm_pred': svm_preds_test,\n",
        "    'rf_pred': rf_preds_test\n",
        "})\n"
      ]
    },
    {
      "cell_type": "code",
      "execution_count": null,
      "id": "169f5786-4e21-4c9b-8f5c-c378ff7a98aa",
      "metadata": {
        "id": "169f5786-4e21-4c9b-8f5c-c378ff7a98aa"
      },
      "outputs": [],
      "source": [
        "import keras\n",
        "from keras.models import Sequential\n",
        "from keras.layers import Dense\n",
        "\n",
        "# Construir a rede neural\n",
        "model = Sequential()\n",
        "model.add(Dense(32, input_dim=X_train_stack.shape[1], activation='relu'))  # Camada de entrada\n",
        "model.add(Dense(16, activation='relu'))  # Camada oculta\n",
        "model.add(Dense(1, activation='sigmoid'))  # Camada de saída para classificação binária\n",
        "\n",
        "# Compilar o modelo\n",
        "model.compile(loss='binary_crossentropy', optimizer='adam', metrics=['accuracy'])\n",
        "\n",
        "# Treinar a rede neural\n",
        "model.fit(X_train_stack, y_train, epochs=10, batch_size=32, validation_data=(X_test_stack, y_test))\n"
      ]
    },
    {
      "cell_type": "code",
      "execution_count": null,
      "id": "851e537f-fd89-452e-8509-3d46c91bc760",
      "metadata": {
        "editable": true,
        "tags": [],
        "id": "851e537f-fd89-452e-8509-3d46c91bc760"
      },
      "outputs": [],
      "source": [
        "# Avaliar o modelo da rede neural\n",
        "loss, accuracy = model.evaluate(X_test_stack, y_test)\n",
        "print(f'Acurácia da rede neural: {accuracy:.4f}')\n",
        "\n",
        "# Predições com a rede neural\n",
        "nn_preds = model.predict(X_test_stack)\n",
        "nn_preds_class = (nn_preds > 0.5).astype(int)  # Se for maior que 0.5, classe 1, senão classe 0\n"
      ]
    },
    {
      "cell_type": "code",
      "execution_count": null,
      "id": "af836f9a-1b06-4ed2-a25e-674baf6add37",
      "metadata": {
        "id": "af836f9a-1b06-4ed2-a25e-674baf6add37"
      },
      "outputs": [],
      "source": [
        "# --------------------------------------------------------------\n",
        "# Perform forward feature selection using simple decision tree\n",
        "# --------------------------------------------------------------"
      ]
    },
    {
      "cell_type": "code",
      "execution_count": null,
      "id": "2017ab83-5dca-4acd-ac55-1a954638cc5d",
      "metadata": {
        "id": "2017ab83-5dca-4acd-ac55-1a954638cc5d"
      },
      "outputs": [],
      "source": [
        "# --------------------------------------------------------------\n",
        "# Grid search for best hyperparameters and model selection\n",
        "# --------------------------------------------------------------"
      ]
    },
    {
      "cell_type": "code",
      "execution_count": null,
      "id": "04ca5291-b51d-4b7a-9b47-bdfc18517b7f",
      "metadata": {
        "id": "04ca5291-b51d-4b7a-9b47-bdfc18517b7f"
      },
      "outputs": [],
      "source": [
        "# --------------------------------------------------------------\n",
        "# Create a grouped bar plot to compare the results\n",
        "# --------------------------------------------------------------"
      ]
    },
    {
      "cell_type": "code",
      "execution_count": null,
      "id": "24ae6649-cb91-41e2-bfd3-9e0321330980",
      "metadata": {
        "id": "24ae6649-cb91-41e2-bfd3-9e0321330980"
      },
      "outputs": [],
      "source": [
        "# --------------------------------------------------------------\n",
        "# Select best model and evaluate results\n",
        "# --------------------------------------------------------------"
      ]
    },
    {
      "cell_type": "code",
      "execution_count": null,
      "id": "fea44462-bcd2-47b9-93ad-320a529aeee4",
      "metadata": {
        "id": "fea44462-bcd2-47b9-93ad-320a529aeee4"
      },
      "outputs": [],
      "source": [
        "# --------------------------------------------------------------\n",
        "# Select train and test data based on participant\n",
        "# --------------------------------------------------------------"
      ]
    },
    {
      "cell_type": "code",
      "execution_count": null,
      "id": "4bf49085-ac0a-4265-a6d0-a346444534a5",
      "metadata": {
        "id": "4bf49085-ac0a-4265-a6d0-a346444534a5"
      },
      "outputs": [],
      "source": [
        "\n",
        "# --------------------------------------------------------------\n",
        "# Use best model again and evaluate results\n",
        "# --------------------------------------------------------------\n",
        "\n"
      ]
    },
    {
      "cell_type": "code",
      "execution_count": null,
      "id": "8e56bda0-6808-4454-854c-875d324ba15b",
      "metadata": {
        "id": "8e56bda0-6808-4454-854c-875d324ba15b"
      },
      "outputs": [],
      "source": [
        "\n",
        "# --------------------------------------------------------------\n",
        "# Try a simpler model with the selected features\n",
        "# --------------------------------------------------------------"
      ]
    },
    {
      "cell_type": "code",
      "execution_count": null,
      "id": "942d2b6f-905f-48f1-950f-a1fc08dbbef2",
      "metadata": {
        "id": "942d2b6f-905f-48f1-950f-a1fc08dbbef2"
      },
      "outputs": [],
      "source": [
        "\n",
        "\n",
        "\n"
      ]
    },
    {
      "cell_type": "code",
      "execution_count": null,
      "id": "f4cf1c9e-17b4-4201-8969-50ae6d55e61c",
      "metadata": {
        "id": "f4cf1c9e-17b4-4201-8969-50ae6d55e61c"
      },
      "outputs": [],
      "source": []
    }
  ],
  "metadata": {
    "kernelspec": {
      "display_name": "Python [conda env:base] *",
      "language": "python",
      "name": "conda-base-py"
    },
    "language_info": {
      "codemirror_mode": {
        "name": "ipython",
        "version": 3
      },
      "file_extension": ".py",
      "mimetype": "text/x-python",
      "name": "python",
      "nbconvert_exporter": "python",
      "pygments_lexer": "ipython3",
      "version": "3.12.7"
    },
    "panel-cell-order": [
      "5398fa7a-9fde-495e-9729-ba022bce022b"
    ],
    "colab": {
      "provenance": [],
      "gpuType": "V28",
      "include_colab_link": true
    },
    "accelerator": "TPU"
  },
  "nbformat": 4,
  "nbformat_minor": 5
}